{
 "cells": [
  {
   "cell_type": "markdown",
   "metadata": {},
   "source": [
    "# Neural Machine Translation\n",
    "\n",
    "\n",
    "This  a Neural Machine Translation (NMT) model to translate human readable dates (\"25th of June, 2009\") into machine readable dates (\"2009-06-25\"). You will do this using an attention model, one of the most sophisticated sequence to sequence models. \n",
    "\n",
    "This notebook was produced together with NVIDIA's Deep Learning Institute and Coursera AI Learning Course \n",
    "\n"
   ]
  },
  {
   "cell_type": "code",
   "execution_count": 1,
   "metadata": {},
   "outputs": [
    {
     "name": "stderr",
     "output_type": "stream",
     "text": [
      "Using TensorFlow backend.\n"
     ]
    },
    {
     "ename": "RuntimeError",
     "evalue": "module compiled against API version 0xc but this version of numpy is 0xb",
     "output_type": "error",
     "traceback": [
      "\u001b[0;31m---------------------------------------------------------------------------\u001b[0m",
      "\u001b[0;31mRuntimeError\u001b[0m                              Traceback (most recent call last)",
      "\u001b[0;31mRuntimeError\u001b[0m: module compiled against API version 0xc but this version of numpy is 0xb"
     ]
    },
    {
     "ename": "RuntimeError",
     "evalue": "module compiled against API version 0xc but this version of numpy is 0xb",
     "output_type": "error",
     "traceback": [
      "\u001b[0;31m---------------------------------------------------------------------------\u001b[0m",
      "\u001b[0;31mRuntimeError\u001b[0m                              Traceback (most recent call last)",
      "\u001b[0;31mRuntimeError\u001b[0m: module compiled against API version 0xc but this version of numpy is 0xb"
     ]
    }
   ],
   "source": [
    "from keras.layers import Bidirectional, Concatenate, Permute, Dot, Input, LSTM, Multiply\n",
    "from keras.layers import RepeatVector, Dense, Activation, Lambda\n",
    "from keras.optimizers import Adam\n",
    "from keras.utils import to_categorical\n",
    "from keras.models import load_model, Model\n",
    "import keras.backend as K\n",
    "import numpy as np\n",
    "\n",
    "from faker import Faker\n",
    "import random\n",
    "from tqdm import tqdm\n",
    "from babel.dates import format_date\n",
    "from nmt_utils import *\n",
    "import matplotlib.pyplot as plt\n",
    "%matplotlib inline"
   ]
  },
  {
   "cell_type": "code",
   "execution_count": 2,
   "metadata": {},
   "outputs": [
    {
     "name": "stdout",
     "output_type": "stream",
     "text": [
      "2.2.4\n",
      "1.12.0\n"
     ]
    }
   ],
   "source": [
    "import keras\n",
    "print (keras.__version__)\n",
    "import tensorflow\n",
    "print (tensorflow.__version__)\n"
   ]
  },
  {
   "cell_type": "markdown",
   "metadata": {},
   "source": [
    "## 1 - Translating human readable dates into machine readable dates\n",
    "\n",
    "The model could be used to translate from one language to another, such as translating from English to Hindi. However, language translation requires massive datasets and usually takes days of training on GPUs. To experiment with these models even without using massive datasets, we will instead use a simpler \"date translation\" task. \n",
    "\n",
    "The network will input a date written in a variety of possible formats (*e.g. \"the 29th of August 1958\", \"03/30/1968\", \"24 JUNE 1987\"*) and translate them into standardized, machine readable dates (*e.g. \"1958-08-29\", \"1968-03-30\", \"1987-06-24\"*). We will have the network learn to output dates in the common machine-readable format YYYY-MM-DD. \n",
    "\n",
    "\n",
    "\n",
    "<!-- \n",
    "Take a look at [nmt_utils.py](./nmt_utils.py) to see all the formatting. Count and figure out how the formats work, you will need this knowledge later. !--> "
   ]
  },
  {
   "cell_type": "markdown",
   "metadata": {},
   "source": [
    "### 1.1 - Dataset\n",
    "\n",
    "We will train the model on a dataset of 10000 human readable dates and their equivalent, standardized, machine readable dates. Let's run the following cells to load the dataset and print some examples. "
   ]
  },
  {
   "cell_type": "code",
   "execution_count": 3,
   "metadata": {},
   "outputs": [
    {
     "name": "stderr",
     "output_type": "stream",
     "text": [
      "100%|██████████| 20000/20000 [00:00<00:00, 35297.77it/s]\n"
     ]
    }
   ],
   "source": [
    "#m = 10000\n",
    "m = 20000\n",
    "\n",
    "dataset, human_vocab, machine_vocab, inv_machine_vocab = load_dataset(m)"
   ]
  },
  {
   "cell_type": "code",
   "execution_count": 4,
   "metadata": {},
   "outputs": [
    {
     "data": {
      "text/plain": [
       "[('9 may 1998', '1998-05-09'),\n",
       " ('10.09.70', '1970-09-10'),\n",
       " ('4/28/90', '1990-04-28'),\n",
       " ('thursday january 26 1995', '1995-01-26'),\n",
       " ('monday march 7 1983', '1983-03-07'),\n",
       " ('sunday may 22 1988', '1988-05-22'),\n",
       " ('tuesday july 8 2008', '2008-07-08'),\n",
       " ('08 sep 1999', '1999-09-08'),\n",
       " ('1 jan 1981', '1981-01-01'),\n",
       " ('monday may 22 1995', '1995-05-22')]"
      ]
     },
     "execution_count": 4,
     "metadata": {},
     "output_type": "execute_result"
    }
   ],
   "source": [
    "dataset[:10]"
   ]
  },
  {
   "cell_type": "markdown",
   "metadata": {},
   "source": [
    "You've loaded:\n",
    "- `dataset`: a list of tuples of (human readable date, machine readable date)\n",
    "- `human_vocab`: a python dictionary mapping all characters used in the human readable dates to an integer-valued index \n",
    "- `machine_vocab`: a python dictionary mapping all characters used in machine readable dates to an integer-valued index. These indices are not necessarily consistent with `human_vocab`. \n",
    "- `inv_machine_vocab`: the inverse dictionary of `machine_vocab`, mapping from indices back to characters. \n",
    "\n",
    "Let's preprocess the data and map the raw text data into the index values. We will also use Tx=30 (which we assume is the maximum length of the human readable date; if we get a longer input, we would have to truncate it) and Ty=10 (since \"YYYY-MM-DD\" is 10 characters long). "
   ]
  },
  {
   "cell_type": "code",
   "execution_count": 5,
   "metadata": {},
   "outputs": [
    {
     "name": "stdout",
     "output_type": "stream",
     "text": [
      "X.shape: (20000, 30)\n",
      "Y.shape: (20000, 10)\n",
      "Xoh.shape: (20000, 30, 37)\n",
      "Yoh.shape: (20000, 10, 11)\n"
     ]
    }
   ],
   "source": [
    "Tx = 30\n",
    "Ty = 10\n",
    "X, Y, Xoh, Yoh = preprocess_data(dataset, human_vocab, machine_vocab, Tx, Ty)\n",
    "\n",
    "print(\"X.shape:\", X.shape)\n",
    "print(\"Y.shape:\", Y.shape)\n",
    "print(\"Xoh.shape:\", Xoh.shape)\n",
    "print(\"Yoh.shape:\", Yoh.shape)"
   ]
  },
  {
   "cell_type": "markdown",
   "metadata": {},
   "source": [
    "You now have:\n",
    "- `X`: a processed version of the human readable dates in the training set, where each character is replaced by an index mapped to the character via `human_vocab`. Each date is further padded to $T_x$ values with a special character (< pad >). `X.shape = (m, Tx)`\n",
    "- `Y`: a processed version of the machine readable dates in the training set, where each character is replaced by the index it is mapped to in `machine_vocab`. You should have `Y.shape = (m, Ty)`. \n",
    "- `Xoh`: one-hot version of `X`, the \"1\" entry's index is mapped to the character thanks to `human_vocab`. `Xoh.shape = (m, Tx, len(human_vocab))`\n",
    "- `Yoh`: one-hot version of `Y`, the \"1\" entry's index is mapped to the character thanks to `machine_vocab`. `Yoh.shape = (m, Tx, len(machine_vocab))`. Here, `len(machine_vocab) = 11` since there are 11 characters ('-' as well as 0-9). \n"
   ]
  },
  {
   "cell_type": "markdown",
   "metadata": {},
   "source": [
    "Lets also look at some examples of preprocessed training examples. Feel free to play with `index` in the cell below to navigate the dataset and see how source/target dates are preprocessed. "
   ]
  },
  {
   "cell_type": "code",
   "execution_count": 6,
   "metadata": {},
   "outputs": [
    {
     "name": "stdout",
     "output_type": "stream",
     "text": [
      "Source date: 9 may 1998\n",
      "Target date: 1998-05-09\n",
      "\n",
      "Source after preprocessing (indices): [12  0 24 13 34  0  4 12 12 11 36 36 36 36 36 36 36 36 36 36 36 36 36 36 36\n",
      " 36 36 36 36 36]\n",
      "Target after preprocessing (indices): [ 2 10 10  9  0  1  6  0  1 10]\n",
      "\n",
      "Source after preprocessing (one-hot): [[ 0.  0.  0. ...,  0.  0.  0.]\n",
      " [ 1.  0.  0. ...,  0.  0.  0.]\n",
      " [ 0.  0.  0. ...,  0.  0.  0.]\n",
      " ..., \n",
      " [ 0.  0.  0. ...,  0.  0.  1.]\n",
      " [ 0.  0.  0. ...,  0.  0.  1.]\n",
      " [ 0.  0.  0. ...,  0.  0.  1.]]\n",
      "Target after preprocessing (one-hot): [[ 0.  0.  1.  0.  0.  0.  0.  0.  0.  0.  0.]\n",
      " [ 0.  0.  0.  0.  0.  0.  0.  0.  0.  0.  1.]\n",
      " [ 0.  0.  0.  0.  0.  0.  0.  0.  0.  0.  1.]\n",
      " [ 0.  0.  0.  0.  0.  0.  0.  0.  0.  1.  0.]\n",
      " [ 1.  0.  0.  0.  0.  0.  0.  0.  0.  0.  0.]\n",
      " [ 0.  1.  0.  0.  0.  0.  0.  0.  0.  0.  0.]\n",
      " [ 0.  0.  0.  0.  0.  0.  1.  0.  0.  0.  0.]\n",
      " [ 1.  0.  0.  0.  0.  0.  0.  0.  0.  0.  0.]\n",
      " [ 0.  1.  0.  0.  0.  0.  0.  0.  0.  0.  0.]\n",
      " [ 0.  0.  0.  0.  0.  0.  0.  0.  0.  0.  1.]]\n"
     ]
    }
   ],
   "source": [
    "index = 0\n",
    "print(\"Source date:\", dataset[index][0])\n",
    "print(\"Target date:\", dataset[index][1])\n",
    "print()\n",
    "print(\"Source after preprocessing (indices):\", X[index])\n",
    "print(\"Target after preprocessing (indices):\", Y[index])\n",
    "print()\n",
    "print(\"Source after preprocessing (one-hot):\", Xoh[index])\n",
    "print(\"Target after preprocessing (one-hot):\", Yoh[index])"
   ]
  },
  {
   "cell_type": "markdown",
   "metadata": {},
   "source": [
    "## 2 - Neural machine translation with attention\n",
    "\n",
    "If you had to translate a book's paragraph from French to English, you would not read the whole paragraph, then close the book and translate. Even during the translation process, you would read/re-read and focus on the parts of the French paragraph corresponding to the parts of the English you are writing down. \n",
    "\n",
    "The attention mechanism tells a Neural Machine Translation model where it should pay attention to at any step. \n",
    "\n",
    "\n",
    "### 2.1 - Attention mechanism\n",
    "\n",
    "In this part, you will implement the attention mechanism presented in the lecture videos. Here is a figure to remind you how the model works. The diagram on the left shows the attention model. The diagram on the right shows what one \"Attention\" step does to calculate the attention variables $\\alpha^{\\langle t, t' \\rangle}$, which are used to compute the context variable $context^{\\langle t \\rangle}$ for each timestep in the output ($t=1, \\ldots, T_y$). \n",
    "\n",
    "<table>\n",
    "<td> \n",
    "<img src=\"images/attn_model.png\" style=\"width:500;height:500px;\"> <br>\n",
    "</td> \n",
    "<td> \n",
    "<img src=\"images/attn_mechanism.png\" style=\"width:500;height:500px;\"> <br>\n",
    "</td> \n",
    "</table>\n",
    "<caption><center> **Figure 1**: Neural machine translation with attention</center></caption>\n"
   ]
  },
  {
   "cell_type": "markdown",
   "metadata": {},
   "source": [
    "\n",
    "Here are some properties of the model that you may notice: \n",
    "\n",
    "- There are two separate LSTMs in this model (see diagram on the left). Because the one at the bottom of the picture is a Bi-directional LSTM and comes *before* the attention mechanism, we will call it *pre-attention* Bi-LSTM. The LSTM at the top of the diagram comes *after* the attention mechanism, so we will call it the *post-attention* LSTM. The pre-attention Bi-LSTM goes through $T_x$ time steps; the post-attention LSTM goes through $T_y$ time steps. \n",
    "\n",
    "- The post-attention LSTM passes $s^{\\langle t \\rangle}, c^{\\langle t \\rangle}$ from one time step to the next. In the lecture videos, we were using only a basic RNN for the post-activation sequence model, so the state captured by the RNN output activations $s^{\\langle t\\rangle}$. But since we are using an LSTM here, the LSTM has both the output activation $s^{\\langle t\\rangle}$ and the hidden cell state $c^{\\langle t\\rangle}$. However, unlike previous text generation examples (such as Dinosaurus in week 1), in this model the post-activation LSTM at time $t$ does will not take the specific generated $y^{\\langle t-1 \\rangle}$ as input; it only takes $s^{\\langle t\\rangle}$ and $c^{\\langle t\\rangle}$ as input. We have designed the model this way, because (unlike language generation where adjacent characters are highly correlated) there isn't as strong a dependency between the previous character and the next character in a YYYY-MM-DD date. \n",
    "\n",
    "- We use $a^{\\langle t \\rangle} = [\\overrightarrow{a}^{\\langle t \\rangle}; \\overleftarrow{a}^{\\langle t \\rangle}]$ to represent the concatenation of the activations of both the forward-direction and backward-directions of the pre-attention Bi-LSTM. \n",
    "\n",
    "- The diagram on the right uses a `RepeatVector` node to copy $s^{\\langle t-1 \\rangle}$'s value $T_x$ times, and then `Concatenation` to concatenate $s^{\\langle t-1 \\rangle}$ and $a^{\\langle t \\rangle}$ to compute $e^{\\langle t, t'}$, which is then passed through a softmax to compute $\\alpha^{\\langle t, t' \\rangle}$. We'll explain how to use `RepeatVector` and `Concatenation` in Keras below. \n",
    "\n",
    "Lets implement this model. You will start by implementing two functions: `one_step_attention()` and `model()`.\n",
    "\n",
    "**1) `one_step_attention()`**: At step $t$, given all the hidden states of the Bi-LSTM ($[a^{<1>},a^{<2>}, ..., a^{<T_x>}]$) and the previous hidden state of the second LSTM ($s^{<t-1>}$), `one_step_attention()` will compute the attention weights ($[\\alpha^{<t,1>},\\alpha^{<t,2>}, ..., \\alpha^{<t,T_x>}]$) and output the context vector (see Figure  1 (right) for details):\n",
    "$$context^{<t>} = \\sum_{t' = 0}^{T_x} \\alpha^{<t,t'>}a^{<t'>}\\tag{1}$$ \n",
    "\n",
    "Note that we are denoting the attention in this notebook $context^{\\langle t \\rangle}$. In the lecture videos, the context was denoted $c^{\\langle t \\rangle}$, but here we are calling it $context^{\\langle t \\rangle}$ to avoid confusion with the (post-attention) LSTM's internal memory cell variable, which is sometimes also denoted $c^{\\langle t \\rangle}$. \n",
    "  \n",
    "**2) `model()`**: Implements the entire model. It first runs the input through a Bi-LSTM to get back $[a^{<1>},a^{<2>}, ..., a^{<T_x>}]$. Then, it calls `one_step_attention()` $T_y$ times (`for` loop). At each iteration of this loop, it gives the computed context vector $c^{<t>}$ to the second LSTM, and runs the output of the LSTM through a dense layer with softmax activation to generate a prediction $\\hat{y}^{<t>}$. \n",
    "\n",
    "\n",
    "\n",
    "**Exercise**: Implement `one_step_attention()`. The function `model()` will call the layers in `one_step_attention()` $T_y$ using a for-loop, and it is important that all $T_y$ copies have the same weights. I.e., it should not re-initiaiize the weights every time. In other words, all $T_y$ steps should have shared weights. Here's how you can implement layers with shareable weights in Keras:\n",
    "1. Define the layer objects (as global variables for examples).\n",
    "2. Call these objects when propagating the input.\n",
    "\n",
    "We have defined the layers you need as global variables. Please run the following cells to create them. Please check the Keras documentation to make sure you understand what these layers are: [RepeatVector()](https://keras.io/layers/core/#repeatvector), [Concatenate()](https://keras.io/layers/merge/#concatenate), [Dense()](https://keras.io/layers/core/#dense), [Activation()](https://keras.io/layers/core/#activation), [Dot()](https://keras.io/layers/merge/#dot)."
   ]
  },
  {
   "cell_type": "code",
   "execution_count": 7,
   "metadata": {},
   "outputs": [],
   "source": [
    "# Defined shared layers as global variables\n",
    "repeator = RepeatVector(Tx)\n",
    "concatenator = Concatenate(axis=-1)\n",
    "densor1 = Dense(10, activation = \"tanh\")\n",
    "densor2 = Dense(1, activation = \"relu\")\n",
    "activator = Activation(softmax, name='attention_weights') # We are using a custom softmax(axis = 1) loaded in this notebook\n",
    "dotor = Dot(axes = 1)"
   ]
  },
  {
   "cell_type": "markdown",
   "metadata": {},
   "source": [
    "Now you can use these layers to implement `one_step_attention()`. In order to propagate a Keras tensor object X through one of these layers, use `layer(X)` (or `layer([X,Y])` if it requires multiple inputs.), e.g. `densor(X)` will propagate X through the `Dense(1)` layer defined above."
   ]
  },
  {
   "cell_type": "code",
   "execution_count": 8,
   "metadata": {},
   "outputs": [],
   "source": [
    "\n",
    "def one_step_attention(a, s_prev):\n",
    "    \"\"\"\n",
    "    Performs one step of attention: Outputs a context vector computed as a dot product of the attention weights\n",
    "    \"alphas\" and the hidden states \"a\" of the Bi-LSTM.\n",
    "    \n",
    "    Arguments:\n",
    "    a -- hidden state output of the Bi-LSTM, numpy-array of shape (m, Tx, 2*n_a)\n",
    "    s_prev -- previous hidden state of the (post-attention) LSTM, numpy-array of shape (m, n_s)\n",
    "    \n",
    "    Returns:\n",
    "    context -- context vector, input of the next (post-attetion) LSTM cell\n",
    "    \"\"\"\n",
    "    \n",
    "    # Use repeator to repeat s_prev to be of shape (m, Tx, n_s) so that you can concatenate it with all hidden states \"a\" (≈ 1 line)\n",
    "    s_prev = repeator(s_prev)\n",
    "    # Use concatenator to concatenate a and s_prev on the last axis (≈ 1 line)\n",
    "    concat = concatenator([a,s_prev])\n",
    "    # Use densor1 to propagate concat through a small fully-connected neural network to compute the \"intermediate energies\" variable e. (≈1 lines)\n",
    "    e = densor1(concat)\n",
    "    # Use densor2 to propagate e through a small fully-connected neural network to compute the \"energies\" variable energies. (≈1 lines)\n",
    "    energies = densor2(e)\n",
    "    # Use \"activator\" on \"energies\" to compute the attention weights \"alphas\" (≈ 1 line)\n",
    "    alphas = activator(energies)\n",
    "    # Use dotor together with \"alphas\" and \"a\" to compute the context vector to be given to the next (post-attention) LSTM-cell (≈ 1 line)\n",
    "    context = dotor([alphas,a])\n",
    "    \n",
    "    return context"
   ]
  },
  {
   "cell_type": "markdown",
   "metadata": {},
   "source": [
    "You will be able to check the expected output of `one_step_attention()` after you've coded the `model()` function."
   ]
  },
  {
   "cell_type": "code",
   "execution_count": 9,
   "metadata": {},
   "outputs": [],
   "source": [
    "n_a = 32\n",
    "n_s = 64\n",
    "post_activation_LSTM_cell = LSTM(n_s, return_state = True)\n",
    "output_layer = Dense(len(machine_vocab), activation=softmax)"
   ]
  },
  {
   "cell_type": "markdown",
   "metadata": {},
   "source": [
    "Now you can use these layers $T_y$ times in a `for` loop to generate the outputs, and their parameters will not be reinitialized. You will have to carry out the following steps: \n",
    "\n",
    "1. Propagate the input into a [Bidirectional](https://keras.io/layers/wrappers/#bidirectional) [LSTM](https://keras.io/layers/recurrent/#lstm)\n",
    "2. Iterate for $t = 0, \\dots, T_y-1$: \n",
    "    1. Call `one_step_attention()` on $[\\alpha^{<t,1>},\\alpha^{<t,2>}, ..., \\alpha^{<t,T_x>}]$ and $s^{<t-1>}$ to get the context vector $context^{<t>}$.\n",
    "    2. Give $context^{<t>}$ to the post-attention LSTM cell. Remember pass in the previous hidden-state $s^{\\langle t-1\\rangle}$ and cell-states $c^{\\langle t-1\\rangle}$ of this LSTM using `initial_state= [previous hidden state, previous cell state]`. Get back the new hidden state $s^{<t>}$ and the new cell state $c^{<t>}$.\n",
    "    3. Apply a softmax layer to $s^{<t>}$, get the output. \n",
    "    4. Save the output by adding it to the list of outputs.\n",
    "\n",
    "3. Create your Keras model instance, it should have three inputs (\"inputs\", $s^{<0>}$ and $c^{<0>}$) and output the list of \"outputs\"."
   ]
  },
  {
   "cell_type": "code",
   "execution_count": 10,
   "metadata": {},
   "outputs": [],
   "source": [
    "\n",
    "def model(Tx, Ty, n_a, n_s, human_vocab_size, machine_vocab_size):\n",
    "    \"\"\"\n",
    "    Arguments:\n",
    "    Tx -- length of the input sequence\n",
    "    Ty -- length of the output sequence\n",
    "    n_a -- hidden state size of the Bi-LSTM\n",
    "    n_s -- hidden state size of the post-attention LSTM\n",
    "    human_vocab_size -- size of the python dictionary \"human_vocab\"\n",
    "    machine_vocab_size -- size of the python dictionary \"machine_vocab\"\n",
    "\n",
    "    Returns:\n",
    "    model -- Keras model instance\n",
    "    \"\"\"\n",
    "    \n",
    "    # Define the inputs of your model with a shape (Tx,)\n",
    "    # Define s0 and c0, initial hidden state for the decoder LSTM of shape (n_s,)\n",
    "    X = Input(shape=(Tx, human_vocab_size))\n",
    "    s0 = Input(shape=(n_s,), name='s0')\n",
    "    c0 = Input(shape=(n_s,), name='c0')\n",
    "    s = s0\n",
    "    c = c0\n",
    "    \n",
    "    # Initialize empty list of outputs\n",
    "    outputs = []\n",
    "    \n",
    "    \n",
    "    # Step 1: Define your pre-attention Bi-LSTM. Remember to use return_sequences=True. (≈ 1 line)\n",
    "    a = Bidirectional(LSTM(n_a, return_sequences=True))(X)\n",
    "\n",
    "    \n",
    "    # Step 2: Iterate for Ty steps\n",
    "    for t in range(Ty):\n",
    "    \n",
    "        # Step 2.A: Perform one step of the attention mechanism to get back the context vector at step t (≈ 1 line)\n",
    "        context = one_step_attention(a, s)\n",
    "        \n",
    "        # Step 2.B: Apply the post-attention LSTM cell to the \"context\" vector.\n",
    "        # Don't forget to pass: initial_state = [hidden state, cell state] (≈ 1 line)\n",
    "        s, _, c = post_activation_LSTM_cell(context, initial_state = [s, c])\n",
    "        \n",
    "        # Step 2.C: Apply Dense layer to the hidden state output of the post-attention LSTM (≈ 1 line)\n",
    "        out = output_layer(s)\n",
    "        \n",
    "        # Step 2.D: Append \"out\" to the \"outputs\" list (≈ 1 line)\n",
    "        outputs.append(out)\n",
    "    \n",
    "    # Step 3: Create model instance taking three inputs and returning the list of outputs. (≈ 1 line)\n",
    "    model = Model(inputs=[X,s0,c0],outputs=outputs)\n",
    "    \n",
    "    \n",
    "    return model"
   ]
  },
  {
   "cell_type": "markdown",
   "metadata": {},
   "source": [
    "Run the following cell to create your model."
   ]
  },
  {
   "cell_type": "code",
   "execution_count": 11,
   "metadata": {},
   "outputs": [],
   "source": [
    "model = model(Tx, Ty, n_a, n_s, len(human_vocab), len(machine_vocab))"
   ]
  },
  {
   "cell_type": "markdown",
   "metadata": {},
   "source": [
    "Let's get a summary of the model to check if it matches the expected output."
   ]
  },
  {
   "cell_type": "code",
   "execution_count": 12,
   "metadata": {},
   "outputs": [
    {
     "name": "stdout",
     "output_type": "stream",
     "text": [
      "__________________________________________________________________________________________________\n",
      "Layer (type)                    Output Shape         Param #     Connected to                     \n",
      "==================================================================================================\n",
      "input_1 (InputLayer)            (None, 30, 37)       0                                            \n",
      "__________________________________________________________________________________________________\n",
      "s0 (InputLayer)                 (None, 64)           0                                            \n",
      "__________________________________________________________________________________________________\n",
      "bidirectional_1 (Bidirectional) (None, 30, 64)       17920       input_1[0][0]                    \n",
      "__________________________________________________________________________________________________\n",
      "repeat_vector_1 (RepeatVector)  (None, 30, 64)       0           s0[0][0]                         \n",
      "                                                                 lstm_1[0][0]                     \n",
      "                                                                 lstm_1[1][0]                     \n",
      "                                                                 lstm_1[2][0]                     \n",
      "                                                                 lstm_1[3][0]                     \n",
      "                                                                 lstm_1[4][0]                     \n",
      "                                                                 lstm_1[5][0]                     \n",
      "                                                                 lstm_1[6][0]                     \n",
      "                                                                 lstm_1[7][0]                     \n",
      "                                                                 lstm_1[8][0]                     \n",
      "__________________________________________________________________________________________________\n",
      "concatenate_1 (Concatenate)     (None, 30, 128)      0           bidirectional_1[0][0]            \n",
      "                                                                 repeat_vector_1[0][0]            \n",
      "                                                                 bidirectional_1[0][0]            \n",
      "                                                                 repeat_vector_1[1][0]            \n",
      "                                                                 bidirectional_1[0][0]            \n",
      "                                                                 repeat_vector_1[2][0]            \n",
      "                                                                 bidirectional_1[0][0]            \n",
      "                                                                 repeat_vector_1[3][0]            \n",
      "                                                                 bidirectional_1[0][0]            \n",
      "                                                                 repeat_vector_1[4][0]            \n",
      "                                                                 bidirectional_1[0][0]            \n",
      "                                                                 repeat_vector_1[5][0]            \n",
      "                                                                 bidirectional_1[0][0]            \n",
      "                                                                 repeat_vector_1[6][0]            \n",
      "                                                                 bidirectional_1[0][0]            \n",
      "                                                                 repeat_vector_1[7][0]            \n",
      "                                                                 bidirectional_1[0][0]            \n",
      "                                                                 repeat_vector_1[8][0]            \n",
      "                                                                 bidirectional_1[0][0]            \n",
      "                                                                 repeat_vector_1[9][0]            \n",
      "__________________________________________________________________________________________________\n",
      "dense_1 (Dense)                 (None, 30, 10)       1290        concatenate_1[0][0]              \n",
      "                                                                 concatenate_1[1][0]              \n",
      "                                                                 concatenate_1[2][0]              \n",
      "                                                                 concatenate_1[3][0]              \n",
      "                                                                 concatenate_1[4][0]              \n",
      "                                                                 concatenate_1[5][0]              \n",
      "                                                                 concatenate_1[6][0]              \n",
      "                                                                 concatenate_1[7][0]              \n",
      "                                                                 concatenate_1[8][0]              \n",
      "                                                                 concatenate_1[9][0]              \n",
      "__________________________________________________________________________________________________\n",
      "dense_2 (Dense)                 (None, 30, 1)        11          dense_1[0][0]                    \n",
      "                                                                 dense_1[1][0]                    \n",
      "                                                                 dense_1[2][0]                    \n",
      "                                                                 dense_1[3][0]                    \n",
      "                                                                 dense_1[4][0]                    \n",
      "                                                                 dense_1[5][0]                    \n",
      "                                                                 dense_1[6][0]                    \n",
      "                                                                 dense_1[7][0]                    \n",
      "                                                                 dense_1[8][0]                    \n",
      "                                                                 dense_1[9][0]                    \n",
      "__________________________________________________________________________________________________\n",
      "attention_weights (Activation)  (None, 30, 1)        0           dense_2[0][0]                    \n",
      "                                                                 dense_2[1][0]                    \n",
      "                                                                 dense_2[2][0]                    \n",
      "                                                                 dense_2[3][0]                    \n",
      "                                                                 dense_2[4][0]                    \n",
      "                                                                 dense_2[5][0]                    \n",
      "                                                                 dense_2[6][0]                    \n",
      "                                                                 dense_2[7][0]                    \n",
      "                                                                 dense_2[8][0]                    \n",
      "                                                                 dense_2[9][0]                    \n",
      "__________________________________________________________________________________________________\n",
      "dot_1 (Dot)                     (None, 1, 64)        0           attention_weights[0][0]          \n",
      "                                                                 bidirectional_1[0][0]            \n",
      "                                                                 attention_weights[1][0]          \n",
      "                                                                 bidirectional_1[0][0]            \n",
      "                                                                 attention_weights[2][0]          \n",
      "                                                                 bidirectional_1[0][0]            \n",
      "                                                                 attention_weights[3][0]          \n",
      "                                                                 bidirectional_1[0][0]            \n",
      "                                                                 attention_weights[4][0]          \n",
      "                                                                 bidirectional_1[0][0]            \n",
      "                                                                 attention_weights[5][0]          \n",
      "                                                                 bidirectional_1[0][0]            \n",
      "                                                                 attention_weights[6][0]          \n",
      "                                                                 bidirectional_1[0][0]            \n",
      "                                                                 attention_weights[7][0]          \n",
      "                                                                 bidirectional_1[0][0]            \n",
      "                                                                 attention_weights[8][0]          \n",
      "                                                                 bidirectional_1[0][0]            \n",
      "                                                                 attention_weights[9][0]          \n",
      "                                                                 bidirectional_1[0][0]            \n",
      "__________________________________________________________________________________________________\n",
      "c0 (InputLayer)                 (None, 64)           0                                            \n",
      "__________________________________________________________________________________________________\n",
      "lstm_1 (LSTM)                   [(None, 64), (None,  33024       dot_1[0][0]                      \n",
      "                                                                 s0[0][0]                         \n",
      "                                                                 c0[0][0]                         \n",
      "                                                                 dot_1[1][0]                      \n",
      "                                                                 lstm_1[0][0]                     \n",
      "                                                                 lstm_1[0][2]                     \n",
      "                                                                 dot_1[2][0]                      \n",
      "                                                                 lstm_1[1][0]                     \n",
      "                                                                 lstm_1[1][2]                     \n",
      "                                                                 dot_1[3][0]                      \n",
      "                                                                 lstm_1[2][0]                     \n",
      "                                                                 lstm_1[2][2]                     \n",
      "                                                                 dot_1[4][0]                      \n",
      "                                                                 lstm_1[3][0]                     \n",
      "                                                                 lstm_1[3][2]                     \n",
      "                                                                 dot_1[5][0]                      \n",
      "                                                                 lstm_1[4][0]                     \n",
      "                                                                 lstm_1[4][2]                     \n",
      "                                                                 dot_1[6][0]                      \n",
      "                                                                 lstm_1[5][0]                     \n",
      "                                                                 lstm_1[5][2]                     \n",
      "                                                                 dot_1[7][0]                      \n",
      "                                                                 lstm_1[6][0]                     \n",
      "                                                                 lstm_1[6][2]                     \n",
      "                                                                 dot_1[8][0]                      \n",
      "                                                                 lstm_1[7][0]                     \n",
      "                                                                 lstm_1[7][2]                     \n",
      "                                                                 dot_1[9][0]                      \n",
      "                                                                 lstm_1[8][0]                     \n",
      "                                                                 lstm_1[8][2]                     \n",
      "__________________________________________________________________________________________________\n",
      "dense_3 (Dense)                 (None, 11)           715         lstm_1[0][0]                     \n",
      "                                                                 lstm_1[1][0]                     \n",
      "                                                                 lstm_1[2][0]                     \n",
      "                                                                 lstm_1[3][0]                     \n",
      "                                                                 lstm_1[4][0]                     \n",
      "                                                                 lstm_1[5][0]                     \n",
      "                                                                 lstm_1[6][0]                     \n",
      "                                                                 lstm_1[7][0]                     \n",
      "                                                                 lstm_1[8][0]                     \n",
      "                                                                 lstm_1[9][0]                     \n",
      "==================================================================================================\n",
      "Total params: 52,960\n",
      "Trainable params: 52,960\n",
      "Non-trainable params: 0\n",
      "__________________________________________________________________________________________________\n"
     ]
    }
   ],
   "source": [
    "model.summary()"
   ]
  },
  {
   "cell_type": "markdown",
   "metadata": {},
   "source": [
    "**Expected Output**:\n",
    "\n",
    "Here is the summary you should see\n",
    "<table>\n",
    "    <tr>\n",
    "        <td>\n",
    "            **Total params:**\n",
    "        </td>\n",
    "        <td>\n",
    "         185,484\n",
    "        </td>\n",
    "    </tr>\n",
    "        <tr>\n",
    "        <td>\n",
    "            **Trainable params:**\n",
    "        </td>\n",
    "        <td>\n",
    "         185,484\n",
    "        </td>\n",
    "    </tr>\n",
    "            <tr>\n",
    "        <td>\n",
    "            **Non-trainable params:**\n",
    "        </td>\n",
    "        <td>\n",
    "         0\n",
    "        </td>\n",
    "    </tr>\n",
    "                    <tr>\n",
    "        <td>\n",
    "            **bidirectional_1's output shape **\n",
    "        </td>\n",
    "        <td>\n",
    "         (None, 30, 128)  \n",
    "        </td>\n",
    "    </tr>\n",
    "    <tr>\n",
    "        <td>\n",
    "            **repeat_vector_1's output shape **\n",
    "        </td>\n",
    "        <td>\n",
    "         (None, 30, 128)  \n",
    "        </td>\n",
    "    </tr>\n",
    "                <tr>\n",
    "        <td>\n",
    "            **concatenate_1's output shape **\n",
    "        </td>\n",
    "        <td>\n",
    "         (None, 30, 256) \n",
    "        </td>\n",
    "    </tr>\n",
    "            <tr>\n",
    "        <td>\n",
    "            **attention_weights's output shape **\n",
    "        </td>\n",
    "        <td>\n",
    "         (None, 30, 1)  \n",
    "        </td>\n",
    "    </tr>\n",
    "        <tr>\n",
    "        <td>\n",
    "            **dot_1's output shape **\n",
    "        </td>\n",
    "        <td>\n",
    "         (None, 1, 128) \n",
    "        </td>\n",
    "    </tr>\n",
    "           <tr>\n",
    "        <td>\n",
    "            **dense_2's output shape **\n",
    "        </td>\n",
    "        <td>\n",
    "         (None, 11) \n",
    "        </td>\n",
    "    </tr>\n",
    "</table>\n"
   ]
  },
  {
   "cell_type": "markdown",
   "metadata": {},
   "source": [
    "As usual, after creating your model in Keras, you need to compile it and define what loss, optimizer and metrics your are want to use. Compile your model using `categorical_crossentropy` loss, a custom [Adam](https://keras.io/optimizers/#adam) [optimizer](https://keras.io/optimizers/#usage-of-optimizers) (`learning rate = 0.005`, $\\beta_1 = 0.9$, $\\beta_2 = 0.999$, `decay = 0.01`)  and `['accuracy']` metrics:"
   ]
  },
  {
   "cell_type": "code",
   "execution_count": 13,
   "metadata": {},
   "outputs": [],
   "source": [
    "opt = Adam(lr=0.005, beta_1=0.9, beta_2=0.999, decay=0.01)\n",
    "model.compile(loss='categorical_crossentropy', optimizer=opt, metrics=['accuracy'])\n"
   ]
  },
  {
   "cell_type": "markdown",
   "metadata": {},
   "source": [
    "The last step is to define all your inputs and outputs to fit the model:\n",
    "- You already have X of shape $(m = 10000, T_x = 30)$ containing the training examples.\n",
    "- You need to create `s0` and `c0` to initialize your `post_activation_LSTM_cell` with 0s.\n",
    "- Given the `model()` you coded, you need the \"outputs\" to be a list of 11 elements of shape (m, T_y). So that: `outputs[i][0], ..., outputs[i][Ty]` represent the true labels (characters) corresponding to the $i^{th}$ training example (`X[i]`). More generally, `outputs[i][j]` is the true label of the $j^{th}$ character in the $i^{th}$ training example."
   ]
  },
  {
   "cell_type": "code",
   "execution_count": 14,
   "metadata": {},
   "outputs": [],
   "source": [
    "s0 = np.zeros((m, n_s))\n",
    "c0 = np.zeros((m, n_s))\n",
    "outputs = list(Yoh.swapaxes(0,1))"
   ]
  },
  {
   "cell_type": "markdown",
   "metadata": {},
   "source": [
    "Let's now fit the model and run it for one epoch."
   ]
  },
  {
   "cell_type": "code",
   "execution_count": 15,
   "metadata": {},
   "outputs": [
    {
     "name": "stdout",
     "output_type": "stream",
     "text": [
      "Epoch 1/50\n",
      "20000/20000 [==============================] - 16s 803us/step - loss: 13.2233 - dense_3_loss: 2.4475 - dense_3_acc: 0.7451 - dense_3_acc_1: 0.8241 - dense_3_acc_2: 0.4577 - dense_3_acc_3: 0.1326 - dense_3_acc_4: 0.9613 - dense_3_acc_5: 0.6004 - dense_3_acc_6: 0.1631 - dense_3_acc_7: 0.9434 - dense_3_acc_8: 0.3410 - dense_3_acc_9: 0.1359\n",
      "Epoch 2/50\n",
      "20000/20000 [==============================] - 10s 517us/step - loss: 7.4574 - dense_3_loss: 2.0656 - dense_3_acc: 0.9691 - dense_3_acc_1: 0.9720 - dense_3_acc_2: 0.7533 - dense_3_acc_3: 0.3315 - dense_3_acc_4: 1.0000 - dense_3_acc_5: 0.9713 - dense_3_acc_6: 0.4617 - dense_3_acc_7: 1.0000 - dense_3_acc_8: 0.5508 - dense_3_acc_9: 0.2381\n",
      "Epoch 3/50\n",
      "20000/20000 [==============================] - 10s 506us/step - loss: 6.0923 - dense_3_loss: 1.8249 - dense_3_acc: 0.9752 - dense_3_acc_1: 0.9783 - dense_3_acc_2: 0.8049 - dense_3_acc_3: 0.4861 - dense_3_acc_4: 1.0000 - dense_3_acc_5: 0.9744 - dense_3_acc_6: 0.5758 - dense_3_acc_7: 0.9999 - dense_3_acc_8: 0.6705 - dense_3_acc_9: 0.3270\n",
      "Epoch 4/50\n",
      "20000/20000 [==============================] - 10s 505us/step - loss: 5.0831 - dense_3_loss: 1.5854 - dense_3_acc: 0.9779 - dense_3_acc_1: 0.9797 - dense_3_acc_2: 0.8329 - dense_3_acc_3: 0.6173 - dense_3_acc_4: 1.0000 - dense_3_acc_5: 0.9772 - dense_3_acc_6: 0.6715 - dense_3_acc_7: 0.9999 - dense_3_acc_8: 0.7290 - dense_3_acc_9: 0.4051\n",
      "Epoch 5/50\n",
      "20000/20000 [==============================] - 10s 487us/step - loss: 4.2522 - dense_3_loss: 1.2913 - dense_3_acc: 0.9786 - dense_3_acc_1: 0.9804 - dense_3_acc_2: 0.8440 - dense_3_acc_3: 0.7103 - dense_3_acc_4: 1.0000 - dense_3_acc_5: 0.9799 - dense_3_acc_6: 0.7414 - dense_3_acc_7: 0.9999 - dense_3_acc_8: 0.7677 - dense_3_acc_9: 0.5149\n",
      "Epoch 6/50\n",
      "20000/20000 [==============================] - 10s 493us/step - loss: 3.6780 - dense_3_loss: 1.0520 - dense_3_acc: 0.9783 - dense_3_acc_1: 0.9812 - dense_3_acc_2: 0.8497 - dense_3_acc_3: 0.7589 - dense_3_acc_4: 1.0000 - dense_3_acc_5: 0.9807 - dense_3_acc_6: 0.7751 - dense_3_acc_7: 0.9999 - dense_3_acc_8: 0.7897 - dense_3_acc_9: 0.6155\n",
      "Epoch 7/50\n",
      "20000/20000 [==============================] - 10s 502us/step - loss: 3.2569 - dense_3_loss: 0.8753 - dense_3_acc: 0.9795 - dense_3_acc_1: 0.9816 - dense_3_acc_2: 0.8543 - dense_3_acc_3: 0.7911 - dense_3_acc_4: 1.0000 - dense_3_acc_5: 0.9821 - dense_3_acc_6: 0.8078 - dense_3_acc_7: 1.0000 - dense_3_acc_8: 0.8049 - dense_3_acc_9: 0.6885\n",
      "Epoch 8/50\n",
      "20000/20000 [==============================] - 10s 503us/step - loss: 2.9175 - dense_3_loss: 0.7506 - dense_3_acc: 0.9804 - dense_3_acc_1: 0.9828 - dense_3_acc_2: 0.8626 - dense_3_acc_3: 0.8213 - dense_3_acc_4: 0.9999 - dense_3_acc_5: 0.9830 - dense_3_acc_6: 0.8366 - dense_3_acc_7: 1.0000 - dense_3_acc_8: 0.8220 - dense_3_acc_9: 0.7374\n",
      "Epoch 9/50\n",
      "20000/20000 [==============================] - 10s 522us/step - loss: 2.6638 - dense_3_loss: 0.6602 - dense_3_acc: 0.9808 - dense_3_acc_1: 0.9831 - dense_3_acc_2: 0.8657 - dense_3_acc_3: 0.8455 - dense_3_acc_4: 1.0000 - dense_3_acc_5: 0.9838 - dense_3_acc_6: 0.8545 - dense_3_acc_7: 1.0000 - dense_3_acc_8: 0.8338 - dense_3_acc_9: 0.7729\n",
      "Epoch 10/50\n",
      "20000/20000 [==============================] - 11s 535us/step - loss: 2.4551 - dense_3_loss: 0.5949 - dense_3_acc: 0.9815 - dense_3_acc_1: 0.9831 - dense_3_acc_2: 0.8705 - dense_3_acc_3: 0.8689 - dense_3_acc_4: 0.9999 - dense_3_acc_5: 0.9847 - dense_3_acc_6: 0.8731 - dense_3_acc_7: 1.0000 - dense_3_acc_8: 0.8428 - dense_3_acc_9: 0.7981\n",
      "Epoch 11/50\n",
      "20000/20000 [==============================] - 10s 502us/step - loss: 2.2712 - dense_3_loss: 0.5423 - dense_3_acc: 0.9818 - dense_3_acc_1: 0.9835 - dense_3_acc_2: 0.8726 - dense_3_acc_3: 0.8863 - dense_3_acc_4: 1.0000 - dense_3_acc_5: 0.9851 - dense_3_acc_6: 0.8872 - dense_3_acc_7: 1.0000 - dense_3_acc_8: 0.8515 - dense_3_acc_9: 0.8173\n",
      "Epoch 12/50\n",
      "20000/20000 [==============================] - 10s 518us/step - loss: 2.1347 - dense_3_loss: 0.5060 - dense_3_acc: 0.9824 - dense_3_acc_1: 0.9839 - dense_3_acc_2: 0.8749 - dense_3_acc_3: 0.8988 - dense_3_acc_4: 1.0000 - dense_3_acc_5: 0.9860 - dense_3_acc_6: 0.8954 - dense_3_acc_7: 1.0000 - dense_3_acc_8: 0.8587 - dense_3_acc_9: 0.8302\n",
      "Epoch 13/50\n",
      "20000/20000 [==============================] - 10s 499us/step - loss: 2.0076 - dense_3_loss: 0.4730 - dense_3_acc: 0.9829 - dense_3_acc_1: 0.9842 - dense_3_acc_2: 0.8783 - dense_3_acc_3: 0.9064 - dense_3_acc_4: 1.0000 - dense_3_acc_5: 0.9875 - dense_3_acc_6: 0.9023 - dense_3_acc_7: 1.0000 - dense_3_acc_8: 0.8660 - dense_3_acc_9: 0.8420\n",
      "Epoch 14/50\n",
      "20000/20000 [==============================] - 11s 531us/step - loss: 1.8948 - dense_3_loss: 0.4417 - dense_3_acc: 0.9836 - dense_3_acc_1: 0.9846 - dense_3_acc_2: 0.8794 - dense_3_acc_3: 0.9144 - dense_3_acc_4: 1.0000 - dense_3_acc_5: 0.9872 - dense_3_acc_6: 0.9094 - dense_3_acc_7: 1.0000 - dense_3_acc_8: 0.8710 - dense_3_acc_9: 0.8511\n",
      "Epoch 15/50\n",
      "20000/20000 [==============================] - 10s 505us/step - loss: 1.8046 - dense_3_loss: 0.4209 - dense_3_acc: 0.9833 - dense_3_acc_1: 0.9851 - dense_3_acc_2: 0.8827 - dense_3_acc_3: 0.9203 - dense_3_acc_4: 1.0000 - dense_3_acc_5: 0.9885 - dense_3_acc_6: 0.9147 - dense_3_acc_7: 1.0000 - dense_3_acc_8: 0.8795 - dense_3_acc_9: 0.8598\n",
      "Epoch 16/50\n",
      "20000/20000 [==============================] - 10s 506us/step - loss: 1.7233 - dense_3_loss: 0.3995 - dense_3_acc: 0.9844 - dense_3_acc_1: 0.9856 - dense_3_acc_2: 0.8867 - dense_3_acc_3: 0.9255 - dense_3_acc_4: 1.0000 - dense_3_acc_5: 0.9883 - dense_3_acc_6: 0.9204 - dense_3_acc_7: 1.0000 - dense_3_acc_8: 0.8838 - dense_3_acc_9: 0.8652\n",
      "Epoch 17/50\n",
      "20000/20000 [==============================] - 10s 509us/step - loss: 1.6483 - dense_3_loss: 0.3824 - dense_3_acc: 0.9846 - dense_3_acc_1: 0.9856 - dense_3_acc_2: 0.8902 - dense_3_acc_3: 0.9286 - dense_3_acc_4: 1.0000 - dense_3_acc_5: 0.9892 - dense_3_acc_6: 0.9216 - dense_3_acc_7: 1.0000 - dense_3_acc_8: 0.8891 - dense_3_acc_9: 0.8683\n",
      "Epoch 18/50\n",
      "20000/20000 [==============================] - 10s 516us/step - loss: 1.5798 - dense_3_loss: 0.3637 - dense_3_acc: 0.9850 - dense_3_acc_1: 0.9862 - dense_3_acc_2: 0.8931 - dense_3_acc_3: 0.9324 - dense_3_acc_4: 1.0000 - dense_3_acc_5: 0.9891 - dense_3_acc_6: 0.9238 - dense_3_acc_7: 1.0000 - dense_3_acc_8: 0.8934 - dense_3_acc_9: 0.8756\n",
      "Epoch 19/50\n",
      "20000/20000 [==============================] - 10s 520us/step - loss: 1.5166 - dense_3_loss: 0.3483 - dense_3_acc: 0.9852 - dense_3_acc_1: 0.9861 - dense_3_acc_2: 0.8952 - dense_3_acc_3: 0.9360 - dense_3_acc_4: 1.0000 - dense_3_acc_5: 0.9895 - dense_3_acc_6: 0.9292 - dense_3_acc_7: 1.0000 - dense_3_acc_8: 0.8994 - dense_3_acc_9: 0.8793\n",
      "Epoch 20/50\n",
      "20000/20000 [==============================] - 11s 529us/step - loss: 1.4619 - dense_3_loss: 0.3348 - dense_3_acc: 0.9862 - dense_3_acc_1: 0.9868 - dense_3_acc_2: 0.9001 - dense_3_acc_3: 0.9386 - dense_3_acc_4: 1.0000 - dense_3_acc_5: 0.9901 - dense_3_acc_6: 0.9298 - dense_3_acc_7: 1.0000 - dense_3_acc_8: 0.9037 - dense_3_acc_9: 0.8834\n",
      "Epoch 21/50\n",
      "20000/20000 [==============================] - 11s 537us/step - loss: 1.4116 - dense_3_loss: 0.3240 - dense_3_acc: 0.9869 - dense_3_acc_1: 0.9875 - dense_3_acc_2: 0.9048 - dense_3_acc_3: 0.9393 - dense_3_acc_4: 1.0000 - dense_3_acc_5: 0.9902 - dense_3_acc_6: 0.9342 - dense_3_acc_7: 1.0000 - dense_3_acc_8: 0.9092 - dense_3_acc_9: 0.8884\n",
      "Epoch 22/50\n",
      "20000/20000 [==============================] - 10s 525us/step - loss: 1.3643 - dense_3_loss: 0.3113 - dense_3_acc: 0.9865 - dense_3_acc_1: 0.9874 - dense_3_acc_2: 0.9062 - dense_3_acc_3: 0.9424 - dense_3_acc_4: 1.0000 - dense_3_acc_5: 0.9907 - dense_3_acc_6: 0.9345 - dense_3_acc_7: 0.9999 - dense_3_acc_8: 0.9127 - dense_3_acc_9: 0.8910\n",
      "Epoch 23/50\n",
      "20000/20000 [==============================] - 10s 525us/step - loss: 1.3188 - dense_3_loss: 0.3008 - dense_3_acc: 0.9868 - dense_3_acc_1: 0.9878 - dense_3_acc_2: 0.9107 - dense_3_acc_3: 0.9441 - dense_3_acc_4: 1.0000 - dense_3_acc_5: 0.9910 - dense_3_acc_6: 0.9374 - dense_3_acc_7: 1.0000 - dense_3_acc_8: 0.9172 - dense_3_acc_9: 0.8953\n",
      "Epoch 24/50\n"
     ]
    },
    {
     "name": "stdout",
     "output_type": "stream",
     "text": [
      "20000/20000 [==============================] - 10s 522us/step - loss: 1.2768 - dense_3_loss: 0.2923 - dense_3_acc: 0.9873 - dense_3_acc_1: 0.9883 - dense_3_acc_2: 0.9133 - dense_3_acc_3: 0.9458 - dense_3_acc_4: 1.0000 - dense_3_acc_5: 0.9912 - dense_3_acc_6: 0.9383 - dense_3_acc_7: 1.0000 - dense_3_acc_8: 0.9220 - dense_3_acc_9: 0.8966\n",
      "Epoch 25/50\n",
      "20000/20000 [==============================] - 10s 524us/step - loss: 1.2380 - dense_3_loss: 0.2850 - dense_3_acc: 0.9872 - dense_3_acc_1: 0.9887 - dense_3_acc_2: 0.9186 - dense_3_acc_3: 0.9475 - dense_3_acc_4: 1.0000 - dense_3_acc_5: 0.9913 - dense_3_acc_6: 0.9395 - dense_3_acc_7: 1.0000 - dense_3_acc_8: 0.9259 - dense_3_acc_9: 0.8996\n",
      "Epoch 26/50\n",
      "20000/20000 [==============================] - 10s 520us/step - loss: 1.2067 - dense_3_loss: 0.2778 - dense_3_acc: 0.9879 - dense_3_acc_1: 0.9889 - dense_3_acc_2: 0.9211 - dense_3_acc_3: 0.9485 - dense_3_acc_4: 1.0000 - dense_3_acc_5: 0.9913 - dense_3_acc_6: 0.9405 - dense_3_acc_7: 1.0000 - dense_3_acc_8: 0.9285 - dense_3_acc_9: 0.9022\n",
      "Epoch 27/50\n",
      "20000/20000 [==============================] - 10s 515us/step - loss: 1.1684 - dense_3_loss: 0.2692 - dense_3_acc: 0.9880 - dense_3_acc_1: 0.9888 - dense_3_acc_2: 0.9240 - dense_3_acc_3: 0.9505 - dense_3_acc_4: 1.0000 - dense_3_acc_5: 0.9917 - dense_3_acc_6: 0.9421 - dense_3_acc_7: 1.0000 - dense_3_acc_8: 0.9308 - dense_3_acc_9: 0.9052\n",
      "Epoch 28/50\n",
      "20000/20000 [==============================] - 10s 513us/step - loss: 1.1394 - dense_3_loss: 0.2632 - dense_3_acc: 0.9884 - dense_3_acc_1: 0.9894 - dense_3_acc_2: 0.9279 - dense_3_acc_3: 0.9499 - dense_3_acc_4: 1.0000 - dense_3_acc_5: 0.9920 - dense_3_acc_6: 0.9432 - dense_3_acc_7: 1.0000 - dense_3_acc_8: 0.9330 - dense_3_acc_9: 0.9053\n",
      "Epoch 29/50\n",
      "20000/20000 [==============================] - 10s 515us/step - loss: 1.1104 - dense_3_loss: 0.2579 - dense_3_acc: 0.9887 - dense_3_acc_1: 0.9898 - dense_3_acc_2: 0.9300 - dense_3_acc_3: 0.9523 - dense_3_acc_4: 1.0000 - dense_3_acc_5: 0.9918 - dense_3_acc_6: 0.9441 - dense_3_acc_7: 1.0000 - dense_3_acc_8: 0.9360 - dense_3_acc_9: 0.9081\n",
      "Epoch 30/50\n",
      "20000/20000 [==============================] - 10s 515us/step - loss: 1.0809 - dense_3_loss: 0.2504 - dense_3_acc: 0.9887 - dense_3_acc_1: 0.9896 - dense_3_acc_2: 0.9327 - dense_3_acc_3: 0.9532 - dense_3_acc_4: 1.0000 - dense_3_acc_5: 0.9922 - dense_3_acc_6: 0.9456 - dense_3_acc_7: 1.0000 - dense_3_acc_8: 0.9387 - dense_3_acc_9: 0.9107\n",
      "Epoch 31/50\n",
      "20000/20000 [==============================] - 10s 514us/step - loss: 1.0556 - dense_3_loss: 0.2458 - dense_3_acc: 0.9894 - dense_3_acc_1: 0.9901 - dense_3_acc_2: 0.9357 - dense_3_acc_3: 0.9543 - dense_3_acc_4: 1.0000 - dense_3_acc_5: 0.9923 - dense_3_acc_6: 0.9458 - dense_3_acc_7: 1.0000 - dense_3_acc_8: 0.9401 - dense_3_acc_9: 0.9118\n",
      "Epoch 32/50\n",
      "20000/20000 [==============================] - 10s 516us/step - loss: 1.0312 - dense_3_loss: 0.2406 - dense_3_acc: 0.9896 - dense_3_acc_1: 0.9902 - dense_3_acc_2: 0.9368 - dense_3_acc_3: 0.9549 - dense_3_acc_4: 1.0000 - dense_3_acc_5: 0.9923 - dense_3_acc_6: 0.9472 - dense_3_acc_7: 1.0000 - dense_3_acc_8: 0.9435 - dense_3_acc_9: 0.9131\n",
      "Epoch 33/50\n",
      "20000/20000 [==============================] - 10s 515us/step - loss: 1.0073 - dense_3_loss: 0.2352 - dense_3_acc: 0.9896 - dense_3_acc_1: 0.9909 - dense_3_acc_2: 0.9397 - dense_3_acc_3: 0.9558 - dense_3_acc_4: 1.0000 - dense_3_acc_5: 0.9922 - dense_3_acc_6: 0.9470 - dense_3_acc_7: 1.0000 - dense_3_acc_8: 0.9459 - dense_3_acc_9: 0.9144\n",
      "Epoch 34/50\n",
      "20000/20000 [==============================] - 10s 514us/step - loss: 0.9844 - dense_3_loss: 0.2305 - dense_3_acc: 0.9901 - dense_3_acc_1: 0.9913 - dense_3_acc_2: 0.9425 - dense_3_acc_3: 0.9552 - dense_3_acc_4: 1.0000 - dense_3_acc_5: 0.9929 - dense_3_acc_6: 0.9487 - dense_3_acc_7: 1.0000 - dense_3_acc_8: 0.9470 - dense_3_acc_9: 0.9159\n",
      "Epoch 35/50\n",
      "20000/20000 [==============================] - 10s 513us/step - loss: 0.9638 - dense_3_loss: 0.2266 - dense_3_acc: 0.9904 - dense_3_acc_1: 0.9912 - dense_3_acc_2: 0.9434 - dense_3_acc_3: 0.9554 - dense_3_acc_4: 1.0000 - dense_3_acc_5: 0.9932 - dense_3_acc_6: 0.9489 - dense_3_acc_7: 1.0000 - dense_3_acc_8: 0.9489 - dense_3_acc_9: 0.9178\n",
      "Epoch 36/50\n",
      "20000/20000 [==============================] - 10s 525us/step - loss: 0.9450 - dense_3_loss: 0.2227 - dense_3_acc: 0.9906 - dense_3_acc_1: 0.9917 - dense_3_acc_2: 0.9453 - dense_3_acc_3: 0.9572 - dense_3_acc_4: 1.0000 - dense_3_acc_5: 0.9930 - dense_3_acc_6: 0.9493 - dense_3_acc_7: 1.0000 - dense_3_acc_8: 0.9497 - dense_3_acc_9: 0.9195\n",
      "Epoch 37/50\n",
      "20000/20000 [==============================] - 10s 517us/step - loss: 0.9249 - dense_3_loss: 0.2180 - dense_3_acc: 0.9908 - dense_3_acc_1: 0.9921 - dense_3_acc_2: 0.9463 - dense_3_acc_3: 0.9574 - dense_3_acc_4: 1.0000 - dense_3_acc_5: 0.9934 - dense_3_acc_6: 0.9496 - dense_3_acc_7: 1.0000 - dense_3_acc_8: 0.9512 - dense_3_acc_9: 0.9223\n",
      "Epoch 38/50\n",
      "20000/20000 [==============================] - 10s 515us/step - loss: 0.9062 - dense_3_loss: 0.2140 - dense_3_acc: 0.9909 - dense_3_acc_1: 0.9925 - dense_3_acc_2: 0.9490 - dense_3_acc_3: 0.9580 - dense_3_acc_4: 1.0000 - dense_3_acc_5: 0.9931 - dense_3_acc_6: 0.9507 - dense_3_acc_7: 1.0000 - dense_3_acc_8: 0.9527 - dense_3_acc_9: 0.9218\n",
      "Epoch 39/50\n",
      "20000/20000 [==============================] - 10s 518us/step - loss: 0.8890 - dense_3_loss: 0.2108 - dense_3_acc: 0.9913 - dense_3_acc_1: 0.9925 - dense_3_acc_2: 0.9507 - dense_3_acc_3: 0.9585 - dense_3_acc_4: 1.0000 - dense_3_acc_5: 0.9932 - dense_3_acc_6: 0.9519 - dense_3_acc_7: 1.0000 - dense_3_acc_8: 0.9538 - dense_3_acc_9: 0.9237\n",
      "Epoch 40/50\n",
      "20000/20000 [==============================] - 10s 515us/step - loss: 0.8725 - dense_3_loss: 0.2077 - dense_3_acc: 0.9915 - dense_3_acc_1: 0.9927 - dense_3_acc_2: 0.9519 - dense_3_acc_3: 0.9599 - dense_3_acc_4: 1.0000 - dense_3_acc_5: 0.9932 - dense_3_acc_6: 0.9523 - dense_3_acc_7: 1.0000 - dense_3_acc_8: 0.9556 - dense_3_acc_9: 0.9248\n",
      "Epoch 41/50\n",
      "20000/20000 [==============================] - 10s 514us/step - loss: 0.8568 - dense_3_loss: 0.2043 - dense_3_acc: 0.9919 - dense_3_acc_1: 0.9931 - dense_3_acc_2: 0.9526 - dense_3_acc_3: 0.9598 - dense_3_acc_4: 1.0000 - dense_3_acc_5: 0.9937 - dense_3_acc_6: 0.9526 - dense_3_acc_7: 1.0000 - dense_3_acc_8: 0.9573 - dense_3_acc_9: 0.9277\n",
      "Epoch 42/50\n",
      "20000/20000 [==============================] - 10s 523us/step - loss: 0.8389 - dense_3_loss: 0.1998 - dense_3_acc: 0.9924 - dense_3_acc_1: 0.9931 - dense_3_acc_2: 0.9567 - dense_3_acc_3: 0.9605 - dense_3_acc_4: 1.0000 - dense_3_acc_5: 0.9937 - dense_3_acc_6: 0.9540 - dense_3_acc_7: 1.0000 - dense_3_acc_8: 0.9574 - dense_3_acc_9: 0.9275\n",
      "Epoch 43/50\n",
      "20000/20000 [==============================] - 10s 513us/step - loss: 0.8237 - dense_3_loss: 0.1967 - dense_3_acc: 0.9923 - dense_3_acc_1: 0.9934 - dense_3_acc_2: 0.9562 - dense_3_acc_3: 0.9602 - dense_3_acc_4: 1.0000 - dense_3_acc_5: 0.9941 - dense_3_acc_6: 0.9530 - dense_3_acc_7: 1.0000 - dense_3_acc_8: 0.9585 - dense_3_acc_9: 0.9279\n",
      "Epoch 44/50\n",
      "20000/20000 [==============================] - 10s 515us/step - loss: 0.8111 - dense_3_loss: 0.1939 - dense_3_acc: 0.9929 - dense_3_acc_1: 0.9938 - dense_3_acc_2: 0.9578 - dense_3_acc_3: 0.9614 - dense_3_acc_4: 1.0000 - dense_3_acc_5: 0.9940 - dense_3_acc_6: 0.9539 - dense_3_acc_7: 1.0000 - dense_3_acc_8: 0.9594 - dense_3_acc_9: 0.9302\n",
      "Epoch 45/50\n",
      "20000/20000 [==============================] - 10s 514us/step - loss: 0.7977 - dense_3_loss: 0.1914 - dense_3_acc: 0.9930 - dense_3_acc_1: 0.9939 - dense_3_acc_2: 0.9590 - dense_3_acc_3: 0.9627 - dense_3_acc_4: 1.0000 - dense_3_acc_5: 0.9937 - dense_3_acc_6: 0.9543 - dense_3_acc_7: 1.0000 - dense_3_acc_8: 0.9613 - dense_3_acc_9: 0.9314\n",
      "Epoch 46/50\n",
      "20000/20000 [==============================] - 10s 513us/step - loss: 0.7832 - dense_3_loss: 0.1889 - dense_3_acc: 0.9931 - dense_3_acc_1: 0.9941 - dense_3_acc_2: 0.9611 - dense_3_acc_3: 0.9637 - dense_3_acc_4: 1.0000 - dense_3_acc_5: 0.9939 - dense_3_acc_6: 0.9545 - dense_3_acc_7: 1.0000 - dense_3_acc_8: 0.9621 - dense_3_acc_9: 0.9323\n",
      "Epoch 47/50\n"
     ]
    },
    {
     "name": "stdout",
     "output_type": "stream",
     "text": [
      "20000/20000 [==============================] - 10s 512us/step - loss: 0.7713 - dense_3_loss: 0.1865 - dense_3_acc: 0.9929 - dense_3_acc_1: 0.9944 - dense_3_acc_2: 0.9618 - dense_3_acc_3: 0.9639 - dense_3_acc_4: 1.0000 - dense_3_acc_5: 0.9940 - dense_3_acc_6: 0.9555 - dense_3_acc_7: 1.0000 - dense_3_acc_8: 0.9624 - dense_3_acc_9: 0.9320\n",
      "Epoch 48/50\n",
      "20000/20000 [==============================] - 10s 520us/step - loss: 0.7573 - dense_3_loss: 0.1831 - dense_3_acc: 0.9937 - dense_3_acc_1: 0.9947 - dense_3_acc_2: 0.9625 - dense_3_acc_3: 0.9651 - dense_3_acc_4: 1.0000 - dense_3_acc_5: 0.9945 - dense_3_acc_6: 0.9553 - dense_3_acc_7: 1.0000 - dense_3_acc_8: 0.9628 - dense_3_acc_9: 0.9354s - loss: 0.7684 - dense_3_loss: 0.1867 - dense_3_acc: 0.9941 - dense_3_acc_1: 0.9946 - dense_3\n",
      "Epoch 49/50\n",
      "20000/20000 [==============================] - 10s 512us/step - loss: 0.7451 - dense_3_loss: 0.1807 - dense_3_acc: 0.9938 - dense_3_acc_1: 0.9947 - dense_3_acc_2: 0.9638 - dense_3_acc_3: 0.9654 - dense_3_acc_4: 1.0000 - dense_3_acc_5: 0.9945 - dense_3_acc_6: 0.9565 - dense_3_acc_7: 1.0000 - dense_3_acc_8: 0.9641 - dense_3_acc_9: 0.9371\n",
      "Epoch 50/50\n",
      "20000/20000 [==============================] - 10s 524us/step - loss: 0.7332 - dense_3_loss: 0.1774 - dense_3_acc: 0.9940 - dense_3_acc_1: 0.9951 - dense_3_acc_2: 0.9651 - dense_3_acc_3: 0.9662 - dense_3_acc_4: 1.0000 - dense_3_acc_5: 0.9947 - dense_3_acc_6: 0.9564 - dense_3_acc_7: 1.0000 - dense_3_acc_8: 0.9653 - dense_3_acc_9: 0.9379\n"
     ]
    },
    {
     "data": {
      "text/plain": [
       "<keras.callbacks.History at 0x7f1495f3fba8>"
      ]
     },
     "execution_count": 15,
     "metadata": {},
     "output_type": "execute_result"
    }
   ],
   "source": [
    "model.fit([Xoh, s0, c0], outputs, epochs=50, batch_size=100)"
   ]
  },
  {
   "cell_type": "markdown",
   "metadata": {},
   "source": [
    "* The computation took about 10 secs per epoch or 8.3 minutes for 50 epochs on a Nvidia 1080Ti graphics card with 11 GB memory. We achieved training accuracies between 98% and 100% after 50 epochs. \n",
    "\n"
   ]
  },
  {
   "cell_type": "markdown",
   "metadata": {},
   "source": [
    "While training you can see the loss as well as the accuracy on each of the 10 positions of the output. The table below gives you an example of what the accuracies could be if the batch had 2 examples: \n",
    "\n",
    "<img src=\"images/table.png\" style=\"width:700;height:200px;\"> <br>\n",
    "<caption><center>Thus, `dense_2_acc_8: 0.89` means that you are predicting the 7th character of the output correctly 89% of the time in the current batch of data. </center></caption>\n",
    "\n",
    "\n",
    "We have run this model for longer, and saved the weights. Run the next cell to load our weights. (By training a model for several minutes, you should be able to obtain a model of similar accuracy, but loading our model will save you time.) "
   ]
  },
  {
   "cell_type": "code",
   "execution_count": 16,
   "metadata": {},
   "outputs": [],
   "source": [
    "model.load_weights('models/model.h5')"
   ]
  },
  {
   "cell_type": "markdown",
   "metadata": {},
   "source": [
    "You can now see the results on new examples."
   ]
  },
  {
   "cell_type": "code",
   "execution_count": 17,
   "metadata": {},
   "outputs": [
    {
     "name": "stdout",
     "output_type": "stream",
     "text": [
      "source: 3 May 1979\n",
      "output: 1979-05-03\n",
      "source: 5 April 09\n",
      "output: 2009-05-05\n",
      "source: 21th of August 2016\n",
      "output: 2016-08-21\n",
      "source: Tue 10 Jul 2007\n",
      "output: 2007-07-10\n",
      "source: Saturday May 9 2018\n",
      "output: 2018-05-09\n",
      "source: March 3 2001\n",
      "output: 2001-03-03\n",
      "source: March 3rd 2001\n",
      "output: 2001-03-03\n",
      "source: 1 March 01\n",
      "output: 2001-03-01\n",
      "source: April 1, 2019\n",
      "output: 2019-04-01\n",
      "source: 1 April 19\n",
      "output: 2009-04-01\n"
     ]
    }
   ],
   "source": [
    "EXAMPLES = ['3 May 1979', '5 April 09', '21th of August 2016', 'Tue 10 Jul 2007', 'Saturday May 9 2018', 'March 3 2001', \n",
    "            'March 3rd 2001', '1 March 01','April 1, 2019','1 April 19']\n",
    "for example in EXAMPLES:\n",
    "    \n",
    "    \n",
    "    #X = np.array([string_to_int(i, Tx, human_vocab) for i in X])\n",
    "    #Xoh = np.array(list(map(lambda x: to_categorical(x, num_classes=len(human_vocab)), X)))\n",
    "\n",
    "    source = np.array(string_to_int(example, Tx, human_vocab)).reshape((1, 30))\n",
    "    source = np.array(list(map(lambda x: to_categorical(x, num_classes=len(human_vocab)), source)))\n",
    "\n",
    "    prediction = model.predict([source, s0, c0])\n",
    "\n",
    "    prediction = np.argmax(prediction, axis = -1)\n",
    "    output = [inv_machine_vocab[int(i)] for i in prediction]\n",
    "    \n",
    "    print(\"source:\", example)\n",
    "    print(\"output:\", ''.join(output))"
   ]
  },
  {
   "cell_type": "markdown",
   "metadata": {},
   "source": [
    "* The model appears to have a difficulty  predicting an April date with a 2-digit year."
   ]
  },
  {
   "cell_type": "markdown",
   "metadata": {},
   "source": [
    "## 3 - Visualizing Attention\n",
    "\n",
    "Since the problem has a fixed output length of 10, it is also possible to carry out this task using 10 different softmax units to generate the 10 characters of the output. But one advantage of the attention model is that each part of the output (say the month) knows it needs to depend only on a small part of the input (the characters in the input giving the month). We can  visualize what part of the output is looking at what part of the input.\n",
    "\n",
    "Consider the task of translating \"Saturday 9 May 2018\" to \"2018-05-09\". If we visualize the computed $\\alpha^{\\langle t, t' \\rangle}$ we get this: \n",
    "\n",
    "<img src=\"images/date_attention.png\" style=\"width:600;height:300px;\"> <br>\n",
    "<caption><center> **Figure 8**: Full Attention Map</center></caption>\n",
    "\n",
    "Notice how the output ignores the \"Saturday\" portion of the input. None of the output timesteps are paying much attention to that portion of the input. We see also that 9 has been translated as 09 and May has been correctly translated into 05, with the output paying attention to the parts of the input it needs to to make the translation. The year mostly requires it to pay attention to the input's \"18\" in order to generate \"2018.\" \n",
    "\n"
   ]
  },
  {
   "cell_type": "markdown",
   "metadata": {},
   "source": [
    "### 3.1 - Getting the activations from the network\n",
    "\n",
    "Lets now visualize the attention values in your network. We'll propagate an example through the network, then visualize the values of $\\alpha^{\\langle t, t' \\rangle}$. \n",
    "\n",
    "To figure out where the attention values are located, let's start by printing a summary of the model ."
   ]
  },
  {
   "cell_type": "code",
   "execution_count": 18,
   "metadata": {},
   "outputs": [
    {
     "name": "stdout",
     "output_type": "stream",
     "text": [
      "__________________________________________________________________________________________________\n",
      "Layer (type)                    Output Shape         Param #     Connected to                     \n",
      "==================================================================================================\n",
      "input_1 (InputLayer)            (None, 30, 37)       0                                            \n",
      "__________________________________________________________________________________________________\n",
      "s0 (InputLayer)                 (None, 64)           0                                            \n",
      "__________________________________________________________________________________________________\n",
      "bidirectional_1 (Bidirectional) (None, 30, 64)       17920       input_1[0][0]                    \n",
      "__________________________________________________________________________________________________\n",
      "repeat_vector_1 (RepeatVector)  (None, 30, 64)       0           s0[0][0]                         \n",
      "                                                                 lstm_1[0][0]                     \n",
      "                                                                 lstm_1[1][0]                     \n",
      "                                                                 lstm_1[2][0]                     \n",
      "                                                                 lstm_1[3][0]                     \n",
      "                                                                 lstm_1[4][0]                     \n",
      "                                                                 lstm_1[5][0]                     \n",
      "                                                                 lstm_1[6][0]                     \n",
      "                                                                 lstm_1[7][0]                     \n",
      "                                                                 lstm_1[8][0]                     \n",
      "__________________________________________________________________________________________________\n",
      "concatenate_1 (Concatenate)     (None, 30, 128)      0           bidirectional_1[0][0]            \n",
      "                                                                 repeat_vector_1[0][0]            \n",
      "                                                                 bidirectional_1[0][0]            \n",
      "                                                                 repeat_vector_1[1][0]            \n",
      "                                                                 bidirectional_1[0][0]            \n",
      "                                                                 repeat_vector_1[2][0]            \n",
      "                                                                 bidirectional_1[0][0]            \n",
      "                                                                 repeat_vector_1[3][0]            \n",
      "                                                                 bidirectional_1[0][0]            \n",
      "                                                                 repeat_vector_1[4][0]            \n",
      "                                                                 bidirectional_1[0][0]            \n",
      "                                                                 repeat_vector_1[5][0]            \n",
      "                                                                 bidirectional_1[0][0]            \n",
      "                                                                 repeat_vector_1[6][0]            \n",
      "                                                                 bidirectional_1[0][0]            \n",
      "                                                                 repeat_vector_1[7][0]            \n",
      "                                                                 bidirectional_1[0][0]            \n",
      "                                                                 repeat_vector_1[8][0]            \n",
      "                                                                 bidirectional_1[0][0]            \n",
      "                                                                 repeat_vector_1[9][0]            \n",
      "__________________________________________________________________________________________________\n",
      "dense_1 (Dense)                 (None, 30, 10)       1290        concatenate_1[0][0]              \n",
      "                                                                 concatenate_1[1][0]              \n",
      "                                                                 concatenate_1[2][0]              \n",
      "                                                                 concatenate_1[3][0]              \n",
      "                                                                 concatenate_1[4][0]              \n",
      "                                                                 concatenate_1[5][0]              \n",
      "                                                                 concatenate_1[6][0]              \n",
      "                                                                 concatenate_1[7][0]              \n",
      "                                                                 concatenate_1[8][0]              \n",
      "                                                                 concatenate_1[9][0]              \n",
      "__________________________________________________________________________________________________\n",
      "dense_2 (Dense)                 (None, 30, 1)        11          dense_1[0][0]                    \n",
      "                                                                 dense_1[1][0]                    \n",
      "                                                                 dense_1[2][0]                    \n",
      "                                                                 dense_1[3][0]                    \n",
      "                                                                 dense_1[4][0]                    \n",
      "                                                                 dense_1[5][0]                    \n",
      "                                                                 dense_1[6][0]                    \n",
      "                                                                 dense_1[7][0]                    \n",
      "                                                                 dense_1[8][0]                    \n",
      "                                                                 dense_1[9][0]                    \n",
      "__________________________________________________________________________________________________\n",
      "attention_weights (Activation)  (None, 30, 1)        0           dense_2[0][0]                    \n",
      "                                                                 dense_2[1][0]                    \n",
      "                                                                 dense_2[2][0]                    \n",
      "                                                                 dense_2[3][0]                    \n",
      "                                                                 dense_2[4][0]                    \n",
      "                                                                 dense_2[5][0]                    \n",
      "                                                                 dense_2[6][0]                    \n",
      "                                                                 dense_2[7][0]                    \n",
      "                                                                 dense_2[8][0]                    \n",
      "                                                                 dense_2[9][0]                    \n",
      "__________________________________________________________________________________________________\n",
      "dot_1 (Dot)                     (None, 1, 64)        0           attention_weights[0][0]          \n",
      "                                                                 bidirectional_1[0][0]            \n",
      "                                                                 attention_weights[1][0]          \n",
      "                                                                 bidirectional_1[0][0]            \n",
      "                                                                 attention_weights[2][0]          \n",
      "                                                                 bidirectional_1[0][0]            \n",
      "                                                                 attention_weights[3][0]          \n",
      "                                                                 bidirectional_1[0][0]            \n",
      "                                                                 attention_weights[4][0]          \n",
      "                                                                 bidirectional_1[0][0]            \n",
      "                                                                 attention_weights[5][0]          \n",
      "                                                                 bidirectional_1[0][0]            \n",
      "                                                                 attention_weights[6][0]          \n",
      "                                                                 bidirectional_1[0][0]            \n",
      "                                                                 attention_weights[7][0]          \n",
      "                                                                 bidirectional_1[0][0]            \n",
      "                                                                 attention_weights[8][0]          \n",
      "                                                                 bidirectional_1[0][0]            \n",
      "                                                                 attention_weights[9][0]          \n",
      "                                                                 bidirectional_1[0][0]            \n",
      "__________________________________________________________________________________________________\n",
      "c0 (InputLayer)                 (None, 64)           0                                            \n",
      "__________________________________________________________________________________________________\n",
      "lstm_1 (LSTM)                   [(None, 64), (None,  33024       dot_1[0][0]                      \n",
      "                                                                 s0[0][0]                         \n",
      "                                                                 c0[0][0]                         \n",
      "                                                                 dot_1[1][0]                      \n",
      "                                                                 lstm_1[0][0]                     \n",
      "                                                                 lstm_1[0][2]                     \n",
      "                                                                 dot_1[2][0]                      \n",
      "                                                                 lstm_1[1][0]                     \n",
      "                                                                 lstm_1[1][2]                     \n",
      "                                                                 dot_1[3][0]                      \n",
      "                                                                 lstm_1[2][0]                     \n",
      "                                                                 lstm_1[2][2]                     \n",
      "                                                                 dot_1[4][0]                      \n",
      "                                                                 lstm_1[3][0]                     \n",
      "                                                                 lstm_1[3][2]                     \n",
      "                                                                 dot_1[5][0]                      \n",
      "                                                                 lstm_1[4][0]                     \n",
      "                                                                 lstm_1[4][2]                     \n",
      "                                                                 dot_1[6][0]                      \n",
      "                                                                 lstm_1[5][0]                     \n",
      "                                                                 lstm_1[5][2]                     \n",
      "                                                                 dot_1[7][0]                      \n",
      "                                                                 lstm_1[6][0]                     \n",
      "                                                                 lstm_1[6][2]                     \n",
      "                                                                 dot_1[8][0]                      \n",
      "                                                                 lstm_1[7][0]                     \n",
      "                                                                 lstm_1[7][2]                     \n",
      "                                                                 dot_1[9][0]                      \n",
      "                                                                 lstm_1[8][0]                     \n",
      "                                                                 lstm_1[8][2]                     \n",
      "__________________________________________________________________________________________________\n",
      "dense_3 (Dense)                 (None, 11)           715         lstm_1[0][0]                     \n",
      "                                                                 lstm_1[1][0]                     \n",
      "                                                                 lstm_1[2][0]                     \n",
      "                                                                 lstm_1[3][0]                     \n",
      "                                                                 lstm_1[4][0]                     \n",
      "                                                                 lstm_1[5][0]                     \n",
      "                                                                 lstm_1[6][0]                     \n",
      "                                                                 lstm_1[7][0]                     \n",
      "                                                                 lstm_1[8][0]                     \n",
      "                                                                 lstm_1[9][0]                     \n",
      "==================================================================================================\n",
      "Total params: 52,960\n",
      "Trainable params: 52,960\n",
      "Non-trainable params: 0\n",
      "__________________________________________________________________________________________________\n"
     ]
    }
   ],
   "source": [
    "model.summary()"
   ]
  },
  {
   "cell_type": "markdown",
   "metadata": {},
   "source": [
    "Navigate through the output of `model.summary()` above. You can see that the layer named `attention_weights` outputs the `alphas` of shape (m, 30, 1) before `dot_2` computes the context vector for every time step $t = 0, \\ldots, T_y-1$. Lets get the activations from this layer.\n",
    "\n",
    "The function `attention_map()` pulls out the attention values from your model and plots them."
   ]
  },
  {
   "cell_type": "code",
   "execution_count": 19,
   "metadata": {
    "scrolled": false
   },
   "outputs": [
    {
     "data": {
      "text/plain": [
       "<Figure size 432x288 with 0 Axes>"
      ]
     },
     "metadata": {},
     "output_type": "display_data"
    },
    {
     "data": {
      "image/png": "[encoded data removed]",
      "text/plain": [
       "<Figure size 576x612 with 2 Axes>"
      ]
     },
     "metadata": {
      "needs_background": "light"
     },
     "output_type": "display_data"
    }
   ],
   "source": [
    "attention_map = plot_attention_map(model, human_vocab, inv_machine_vocab, \"Tuesday 09 Oct 1993\", num = 7, n_s = 64)\n",
    "\n"
   ]
  },
  {
   "cell_type": "markdown",
   "metadata": {},
   "source": [
    "On the generated plot you can observe the values of the attention weights for each character of the predicted output. Examine this plot and check that where the network is paying attention makes sense to you.\n",
    "\n",
    "In the date translation application, you will observe that most of the time attention helps predict the year, and hasn't much impact on predicting the day/month."
   ]
  },
  {
   "cell_type": "code",
   "execution_count": 23,
   "metadata": {},
   "outputs": [
    {
     "data": {
      "text/plain": [
       "<Figure size 432x288 with 0 Axes>"
      ]
     },
     "metadata": {},
     "output_type": "display_data"
    },
    {
     "data": {
      "image/png": "[encoded data removed]",
      "text/plain": [
       "<Figure size 576x612 with 2 Axes>"
      ]
     },
     "metadata": {
      "needs_background": "light"
     },
     "output_type": "display_data"
    }
   ],
   "source": [
    "attention_map = plot_attention_map(model, human_vocab, inv_machine_vocab, \"5 April 09\", num = 7, n_s = 64)"
   ]
  },
  {
   "cell_type": "markdown",
   "metadata": {},
   "source": [
    "* It looks like the Attention network is not able to cope with the month of April"
   ]
  },
  {
   "cell_type": "code",
   "execution_count": null,
   "metadata": {},
   "outputs": [],
   "source": []
  }
 ],
 "metadata": {
  "coursera": {
   "course_slug": "nlp-sequence-models",
   "graded_item_id": "n16CQ",
   "launcher_item_id": "npjGi"
  },
  "kernelspec": {
   "display_name": "Python 3",
   "language": "python",
   "name": "python3"
  },
  "language_info": {
   "codemirror_mode": {
    "name": "ipython",
    "version": 3
   },
   "file_extension": ".py",
   "mimetype": "text/x-python",
   "name": "python",
   "nbconvert_exporter": "python",
   "pygments_lexer": "ipython3",
   "version": "3.6.8"
  }
 },
 "nbformat": 4,
 "nbformat_minor": 2
}
